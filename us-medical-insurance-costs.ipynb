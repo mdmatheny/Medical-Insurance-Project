{
 "cells": [
  {
   "cell_type": "markdown",
   "metadata": {},
   "source": [
    "# U.S. Medical Insurance Costs"
   ]
  },
  {
   "cell_type": "markdown",
   "metadata": {},
   "source": [
    "The purpose of this project is to demonstrate python fundements while also investigating some common questions about health insurance costs. There are various libraries that could make the process much easier (pandas, numpy, ect), but it is imporant to be able to logically hard code various procedures. \n",
    "\n",
    "### Questions To be Answered:\n",
    "\n",
    "* What is the average insurance cost in the United States? \n",
    "* Are there more men or women in this data set?  \n",
    "* Are medical insurance costs higher for those who have children?\n",
    "* How much does medical insurance costs vary by region in the United States? \n",
    "* (time permiting) is there a model to be used to predict medical insurance costs given the below features?\n",
    "\n",
    "To answer these questions I will write a class called patientInformation() with the following methods: \n",
    "- average()\n",
    "- analyzeGender()\n",
    "- analyzeChildren()\n",
    "- uniqueRegion() \n",
    "\n",
    "I will then combine all of the data into one dictionary. \n",
    "\n",
    "### The Data Set: \n",
    "The data set consits of 1339 randomly sampled patients with varying age, sex, bmi, number of children, smoking status, and region in the United States. The outcome variable is the medical insurance cost.\n",
    "\n",
    "\n",
    "\n"
   ]
  },
  {
   "cell_type": "code",
   "execution_count": 1,
   "metadata": {},
   "outputs": [],
   "source": [
    "#create lists to store the individual features in. \n",
    "age = []\n",
    "sex = []\n",
    "bmi = []\n",
    "num_child = []\n",
    "smoke = []\n",
    "region = []\n",
    "costs = [] #medical Insurance costs. \n"
   ]
  },
  {
   "cell_type": "code",
   "execution_count": 2,
   "metadata": {},
   "outputs": [],
   "source": [
    "#import the data set. \n",
    "import csv \n",
    "# helper function to load csv data\n",
    "def load_list_data(lst, csv_file, column_name):\n",
    "    # open csv file\n",
    "    with open(csv_file) as csv_info:\n",
    "        # read the data from the csv file\n",
    "        csv_dict = csv.DictReader(csv_info)\n",
    "        # loop through the data in each row of the csv \n",
    "        for row in csv_dict:\n",
    "            # add the data from each row to a list\n",
    "            lst.append(row[column_name])\n",
    "        # return the list\n",
    "        #return lst\n",
    "        "
   ]
  },
  {
   "cell_type": "markdown",
   "metadata": {},
   "source": [
    "Now that the data has been loaded, we need to store the data into their corresponding lists. "
   ]
  },
  {
   "cell_type": "code",
   "execution_count": 3,
   "metadata": {},
   "outputs": [],
   "source": [
    "load_list_data(age, 'insurance.csv', 'age')\n",
    "load_list_data(sex, 'insurance.csv' , 'sex')\n",
    "load_list_data(bmi, 'insurance.csv' , 'bmi')\n",
    "load_list_data(num_child, 'insurance.csv' , 'children')\n",
    "load_list_data(smoke, 'insurance.csv' , 'smoker')\n",
    "load_list_data(region, 'insurance.csv' , 'region')\n",
    "load_list_data(costs, 'insurance.csv' , 'charges')\n"
   ]
  },
  {
   "cell_type": "code",
   "execution_count": 4,
   "metadata": {},
   "outputs": [],
   "source": [
    "class patientInformation(): \n",
    "\n",
    "    def __init__(self, age, sex, bmi, num_children, smoker, region, costs):\n",
    "        self.age = age\n",
    "        self.sex = sex\n",
    "        self.bmi = bmi\n",
    "        self.num_child = num_children\n",
    "        self.smoker = smoker\n",
    "        self.region = region \n",
    "        self.insurance_costs = costs \n",
    "    \n",
    "    def average(self):\n",
    "        total_charge = 0 \n",
    "        for charges in self.insurance_costs: \n",
    "            total_charge += float(charges)\n",
    "        average = total_charge/len(self.insurance_costs)\n",
    "        return average\n",
    "\n",
    "\n",
    "    def analyzeGender(self): \n",
    "        males = 0\n",
    "        females = 0\n",
    "        for patient in self.sex:\n",
    "            if patient == \"male\":\n",
    "                males += 1\n",
    "            else:\n",
    "                females += 1\n",
    "        return males, females\n",
    "\n"
   ]
  },
  {
   "cell_type": "code",
   "execution_count": 5,
   "metadata": {},
   "outputs": [
    {
     "name": "stdout",
     "output_type": "stream",
     "text": [
      "676 662\n"
     ]
    }
   ],
   "source": [
    "patient = patientInformation(age, sex, bmi, num_child, smoke, region, costs)\n",
    "patient.average()\n",
    "males, females = patient.analyzeGender()\n",
    "print(males, females)"
   ]
  },
  {
   "cell_type": "code",
   "execution_count": null,
   "metadata": {},
   "outputs": [],
   "source": []
  },
  {
   "cell_type": "code",
   "execution_count": null,
   "metadata": {},
   "outputs": [],
   "source": []
  }
 ],
 "metadata": {
  "kernelspec": {
   "display_name": "Python 3",
   "language": "python",
   "name": "python3"
  },
  "language_info": {
   "codemirror_mode": {
    "name": "ipython",
    "version": 3
   },
   "file_extension": ".py",
   "mimetype": "text/x-python",
   "name": "python",
   "nbconvert_exporter": "python",
   "pygments_lexer": "ipython3",
   "version": "3.9.10"
  }
 },
 "nbformat": 4,
 "nbformat_minor": 4
}
