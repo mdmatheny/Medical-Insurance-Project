{
 "cells": [
  {
   "cell_type": "markdown",
   "metadata": {},
   "source": [
    "# U.S. Medical Insurance Costs"
   ]
  },
  {
   "cell_type": "markdown",
   "metadata": {},
   "source": [
    "The purpose of this project is to demonstrate python fundements while also investigating some common questions about health insurance costs. There are various libraries that could make the process much easier (pandas, numpy, ect), but it is imporant to be able to logically hard code various procedures. After the hardcoded methods have been implemented, I will us the pandas library to make some more interesting analysis easier. \n",
    "\n",
    "### Questions To be Answered:\n",
    "\n",
    "* What is the average insurance cost in the United States? \n",
    "* What is the average age of the data set? \n",
    "* Are there more men or women in this data set?\n",
    "* What reqions in the United States are the patients sampled from?\n",
    "\n",
    "Assuming that the answers to the question above result in a data set that is representative of the United States, we can attempt to answer the following questions: \n",
    "* Are medical insurance costs hight for men or women?   \n",
    "* Are medical insurance costs higher for those who have children?\n",
    "\n",
    "\n",
    "To investigate the data set, I will create a patientInfomation() class with the following methods: \n",
    "- averageCosts()\n",
    "- analyzeGender()\n",
    "- analyzeAge()\n",
    "- analyzeRegion()\n",
    "\n",
    "We will then perform statisitcal analysis to answer the more indepth questions. \n",
    "\n",
    "### The Data Set: \n",
    "The data set consits of 1339 randomly sampled patients with varying age, sex, bmi, number of children, smoking status, and region in the United States. The outcome variable is the medical insurance cost.\n",
    "\n",
    "\n",
    "\n"
   ]
  },
  {
   "cell_type": "code",
   "execution_count": 1,
   "metadata": {},
   "outputs": [],
   "source": [
    "#create lists to store the individual features in. \n",
    "age = []\n",
    "sex = []\n",
    "bmi = []\n",
    "num_child = []\n",
    "smoke = []\n",
    "region = []\n",
    "costs = [] #medical Insurance costs. \n"
   ]
  },
  {
   "cell_type": "code",
   "execution_count": 2,
   "metadata": {},
   "outputs": [],
   "source": [
    "#import the data set. \n",
    "import csv \n",
    "# helper function to load csv data\n",
    "def load_list_data(lst, csv_file, column_name):\n",
    "    # open csv file\n",
    "    with open(csv_file) as csv_info:\n",
    "        # read the data from the csv file\n",
    "        csv_dict = csv.DictReader(csv_info)\n",
    "        # loop through the data in each row of the csv \n",
    "        for row in csv_dict:\n",
    "            # add the data from each row to a list\n",
    "            lst.append(row[column_name])\n",
    "        # return the list\n",
    "        #return lst\n",
    "        "
   ]
  },
  {
   "cell_type": "markdown",
   "metadata": {},
   "source": [
    "Now that the data has been loaded, we need to store the data into their corresponding lists. "
   ]
  },
  {
   "cell_type": "code",
   "execution_count": 3,
   "metadata": {},
   "outputs": [],
   "source": [
    "load_list_data(age, 'insurance.csv', 'age')\n",
    "load_list_data(sex, 'insurance.csv' , 'sex')\n",
    "load_list_data(bmi, 'insurance.csv' , 'bmi')\n",
    "load_list_data(num_child, 'insurance.csv' , 'children')\n",
    "load_list_data(smoke, 'insurance.csv' , 'smoker')\n",
    "load_list_data(region, 'insurance.csv' , 'region')\n",
    "load_list_data(costs, 'insurance.csv' , 'charges')\n"
   ]
  },
  {
   "cell_type": "code",
   "execution_count": 10,
   "metadata": {},
   "outputs": [],
   "source": [
    "class patientInformation(): \n",
    "    # init method that takes in each list parameter\n",
    "    def __init__(self, age, sex, bmi, num_children, smoker, region, costs):\n",
    "        self.age = age\n",
    "        self.sex = sex\n",
    "        self.bmi = bmi\n",
    "        self.num_child = num_children\n",
    "        self.smoker = smoker\n",
    "        self.region = region \n",
    "        self.insurance_costs = costs \n",
    "\n",
    "    #method that calculates the average cost of insurance\n",
    "    def averageCosts(self):\n",
    "        total_charge = 0 \n",
    "        for charges in self.insurance_costs: \n",
    "            total_charge += float(charges)\n",
    "        average = int(total_charge/len(self.insurance_costs))\n",
    "        return (\"The average insurance cost in the United States is: \"+ str(average) + \" dollars.\")\n",
    "\n",
    "    #method that will calculate the average age of the patients in the dataset. \n",
    "    def analyzeAge(self):\n",
    "        sum_age = 0\n",
    "        for ages in self.age:\n",
    "           sum_age += float(ages)\n",
    "        average_age = int(sum_age/len(self.age))\n",
    "        return (\"The average patient age is \" +str(average_age)+\" years old.\") \n",
    "\n",
    "    #method that will count the number of male and female patients in the data set. We will want to include other genders, but the current data set only has males and females. \n",
    "    def analyzeGender(self): \n",
    "        males = 0\n",
    "        females = 0\n",
    "        for patient in self.sex:\n",
    "            #loop to count the number of male and femal patients\n",
    "            if patient == \"male\":\n",
    "                males += 1\n",
    "            else:\n",
    "                females += 1\n",
    "        return (\"There are \" + str(males) + \" males and \" + str(females) + \" females in this data set.\")\n",
    "\n",
    "\n",
    "    # method to find each unique region patients are from\n",
    "    def regions(self):\n",
    "        # initialize empty list\n",
    "        unique_regions = []\n",
    "        # iterate through each region in regions list\n",
    "        for region in self.region:\n",
    "            # if the region is not already in the unique regions list, add it to list. \n",
    "            if region not in unique_regions: \n",
    "                unique_regions.append(region)\n",
    "        # return unique regions list\n",
    "        return unique_regions\n"
   ]
  },
  {
   "cell_type": "markdown",
   "metadata": {},
   "source": [
    "The first part of the analysis is to see what the average insurance cost across the united states: "
   ]
  },
  {
   "cell_type": "code",
   "execution_count": 11,
   "metadata": {},
   "outputs": [
    {
     "name": "stdout",
     "output_type": "stream",
     "text": [
      "The average insurance cost in the United States is: 13270 dollars.\n"
     ]
    }
   ],
   "source": [
    "patient = patientInformation(age, sex, bmi, num_child, smoke, region, costs)\n",
    "print(patient.averageCosts())\n"
   ]
  },
  {
   "cell_type": "markdown",
   "metadata": {},
   "source": [
    "The averge insurance costs across the united states in $13,270.00. That seems quite high! I will do further analysis below to see what might inpact that average value. "
   ]
  },
  {
   "cell_type": "markdown",
   "metadata": {},
   "source": [
    "We want to make sure that the data set is representaitve of the population. Since the average life expectancy in the United States is around 80 years old. We want the average age of our data set to be around 40 years old. Since the distribution of men and females in the U.S population is about 50%, we want the split between the two sexs to be around 50/50. We also want to make sure that the patients are sampled from all over the U.S. "
   ]
  },
  {
   "cell_type": "code",
   "execution_count": 12,
   "metadata": {},
   "outputs": [
    {
     "name": "stdout",
     "output_type": "stream",
     "text": [
      "The average patient age is 39 years old.\n",
      "There are 676 males and 662 females in this data set.\n",
      "['southwest', 'southeast', 'northwest', 'northeast']\n"
     ]
    }
   ],
   "source": [
    "print(patient.analyzeAge())\n",
    "print(patient.analyzeGender())\n",
    "print(patient.regions())"
   ]
  },
  {
   "cell_type": "markdown",
   "metadata": {},
   "source": [
    "We can see that the average age of patients in the data set is 39 years old. This accuratly represents the average age of U.S populations. We can also see that our data set contatins roughly a 50/50 split between male and female patients. The data set also includes patients from all regions in the U.S: Southwest, Southeast, Northwest, and Northeast.\n",
    "\n",
    "Combined with a sample size of 1338 patients, we can conclude that the data set is representative of the United States population. "
   ]
  },
  {
   "cell_type": "markdown",
   "metadata": {},
   "source": []
  },
  {
   "cell_type": "markdown",
   "metadata": {},
   "source": [
    "## Analysis\n",
    "\n",
    "Now that I have determined that my data set is representative of the population, I will restructure the program to make it a little more user friendly. I am going to read in the data into a pandas data frame so that I can look at relationships between the various features and the insurnace costs. "
   ]
  },
  {
   "cell_type": "code",
   "execution_count": 75,
   "metadata": {},
   "outputs": [
    {
     "name": "stdout",
     "output_type": "stream",
     "text": [
      "      age     sex     bmi  children smoker     region      charges\n",
      "0      19  female  27.900         0    yes  southwest  16884.92400\n",
      "1      18    male  33.770         1     no  southeast   1725.55230\n",
      "2      28    male  33.000         3     no  southeast   4449.46200\n",
      "3      33    male  22.705         0     no  northwest  21984.47061\n",
      "4      32    male  28.880         0     no  northwest   3866.85520\n",
      "...   ...     ...     ...       ...    ...        ...          ...\n",
      "1333   50    male  30.970         3     no  northwest  10600.54830\n",
      "1334   18  female  31.920         0     no  northeast   2205.98080\n",
      "1335   18  female  36.850         0     no  southeast   1629.83350\n",
      "1336   21  female  25.800         0     no  southwest   2007.94500\n",
      "1337   61  female  29.070         0    yes  northwest  29141.36030\n",
      "\n",
      "[1338 rows x 7 columns]\n"
     ]
    }
   ],
   "source": [
    "import pandas as pd\n",
    "import numpy as np\n",
    "import matplotlib.pyplot as plt \n",
    "\n",
    "data = pd.read_csv(\"insurance.csv\", header = 'infer')\n",
    "df = pd.DataFrame(data)\n",
    "print(df)"
   ]
  },
  {
   "cell_type": "markdown",
   "metadata": {},
   "source": [
    "Now that the data is read into the dataframe, we can start comparing features with insurance costs. To start, lets whether males or females have a higher average insurance cost:"
   ]
  },
  {
   "cell_type": "code",
   "execution_count": 49,
   "metadata": {},
   "outputs": [
    {
     "name": "stdout",
     "output_type": "stream",
     "text": [
      "The average insurance cost for males is 13956 dollars.\n",
      "The average insurance cost for females is 12569 dollars.\n",
      "The difference between the average cost is: 1387\n"
     ]
    }
   ],
   "source": [
    "male_costs = []\n",
    "female_costs = []\n",
    "for index, row in df.iterrows():\n",
    "    if row[1] == \"male\":\n",
    "        male_costs.append(row[\"charges\"])\n",
    "    else: \n",
    "        female_costs.append(row[\"charges\"])\n",
    "\n",
    "male_average_costs = int(np.average(male_costs))\n",
    "female_average_costs = int(np.average(female_costs))\n",
    "\n",
    "print(\"The average insurance cost for males is \" + str(male_average_costs) + \" dollars.\")\n",
    "\n",
    "print(\"The average insurance cost for females is \" + str(female_average_costs) + \" dollars.\")\n",
    "print(\"The difference between the average cost is: \" + str(male_average_costs - female_average_costs))"
   ]
  },
  {
   "cell_type": "markdown",
   "metadata": {},
   "source": [
    "We can see that the males have an average insurance cost of $13,956.00 and the females have an average insurance cost of $12,596.00. The males, on average, pay $1,387 more per year than females. \n",
    "\n",
    "Out of curiosity, we can look at the distribution of the costs for males and females. We might want to consider using the median if there are several outliers. "
   ]
  },
  {
   "cell_type": "code",
   "execution_count": 117,
   "metadata": {},
   "outputs": [
    {
     "data": {
      "image/png": "[encoded data removed]",
      "text/plain": [
       "<Figure size 720x576 with 1 Axes>"
      ]
     },
     "metadata": {
      "needs_background": "light"
     },
     "output_type": "display_data"
    }
   ],
   "source": [
    "plt.figure(figsize=(10,8))\n",
    "plt.hist([male_costs,female_costs], bins = 25, color=['r','b'], alpha=0.5, label = [\"Males\", \"Females\"])\n",
    "plt.ylabel(\"Number of Males or Females\")\n",
    "plt.xlabel(\"Insurance Costs [U.S Dollar]\")\n",
    "plt.grid(linewidth=.2)\n",
    "plt.legend()\n",
    "plt.show()\n"
   ]
  },
  {
   "cell_type": "markdown",
   "metadata": {},
   "source": [
    "The results above show a heavily skewed distribution for both males and females. This indicates that we should look at the median cost rather than the mean:"
   ]
  },
  {
   "cell_type": "code",
   "execution_count": 122,
   "metadata": {},
   "outputs": [
    {
     "name": "stdout",
     "output_type": "stream",
     "text": [
      "The median insurance cost for males is 9369.61575 dollars.\n",
      "The median insurance cost for females is 9412.9625 dollars.\n",
      "The difference in the median insurance costs form males and females is: -43 dollars.\n"
     ]
    }
   ],
   "source": [
    "male_median_cost = np.median(male_costs)\n",
    "female_median_cost = np.median(female_costs)\n",
    "\n",
    "print(\"The median insurance cost for males is \" + str(male_median_cost) + \" dollars.\")\n",
    "\n",
    "print(\"The median insurance cost for females is \" + str(female_median_cost) + \" dollars.\")\n",
    "print(\"The difference in the median insurance costs form males and females is: \" + str(int(male_median_cost - female_median_cost)) + \" dollars.\")\n"
   ]
  },
  {
   "cell_type": "markdown",
   "metadata": {},
   "source": [
    "We can see that by looking at the median costs, the females are paying $43 dollars more per year than males. "
   ]
  },
  {
   "cell_type": "markdown",
   "metadata": {},
   "source": [
    "Something that also peaked my interest was to see whether the males had the higher insurance costs accross all regions of the United States:"
   ]
  },
  {
   "cell_type": "code",
   "execution_count": 88,
   "metadata": {},
   "outputs": [
    {
     "data": {
      "image/png": "[encoded data removed]",
      "text/plain": [
       "<Figure size 864x576 with 1 Axes>"
      ]
     },
     "metadata": {
      "needs_background": "light"
     },
     "output_type": "display_data"
    }
   ],
   "source": [
    "import seaborn as sns\n",
    "\n",
    "plt.figure(figsize=(12,8))\n",
    "sns.boxplot(x = df[\"region\"], y = df[\"charges\"], hue = df[\"sex\"])\n",
    "plt.xlabel(\"U.S Region\")\n",
    "plt.ylabel(\"Insurance Costs Per Year: US Dollar\")\n",
    "plt.grid(linewidth=.2)"
   ]
  },
  {
   "cell_type": "markdown",
   "metadata": {},
   "source": []
  }
 ],
 "metadata": {
  "kernelspec": {
   "display_name": "Python 3",
   "language": "python",
   "name": "python3"
  },
  "language_info": {
   "codemirror_mode": {
    "name": "ipython",
    "version": 3
   },
   "file_extension": ".py",
   "mimetype": "text/x-python",
   "name": "python",
   "nbconvert_exporter": "python",
   "pygments_lexer": "ipython3",
   "version": "3.9.10"
  }
 },
 "nbformat": 4,
 "nbformat_minor": 4
}
